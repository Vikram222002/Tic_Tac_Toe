{
 "cells": [
  {
   "cell_type": "code",
   "execution_count": 152,
   "id": "968deb89",
   "metadata": {},
   "outputs": [],
   "source": [
    "from random import shuffle\n",
    "\n",
    "def heeee():\n",
    "    input1=input(\"Guess a number from 0 to 2\")\n",
    "    input2=int(input1)\n",
    "    my_list=['','O','']\n",
    "    shuffle(my_list)\n",
    "    if(my_list[input2]=='O'):\n",
    "        print (\"You guess is correct\")\n",
    "    else:\n",
    "        print(\"You guessed wrong\")\n",
    "    return my_list"
   ]
  },
  {
   "cell_type": "code",
   "execution_count": 156,
   "id": "f27b1e5b",
   "metadata": {},
   "outputs": [
    {
     "name": "stdout",
     "output_type": "stream",
     "text": [
      "Guess a number from 0 to 22\n",
      "You guess is correct\n"
     ]
    },
    {
     "data": {
      "text/plain": [
       "['', '', 'O']"
      ]
     },
     "execution_count": 156,
     "metadata": {},
     "output_type": "execute_result"
    }
   ],
   "source": [
    "heeee()"
   ]
  },
  {
   "cell_type": "code",
   "execution_count": 6,
   "id": "1938cad5",
   "metadata": {},
   "outputs": [],
   "source": [
    "def vol(x):\n",
    "    print((4*(x**3)/3*(23/7)))"
   ]
  },
  {
   "cell_type": "code",
   "execution_count": 7,
   "id": "5fa2f2e2",
   "metadata": {},
   "outputs": [
    {
     "name": "stdout",
     "output_type": "stream",
     "text": [
      "35.047619047619044\n"
     ]
    }
   ],
   "source": [
    "vol(2)"
   ]
  },
  {
   "cell_type": "code",
   "execution_count": 22,
   "id": "546ef6b1",
   "metadata": {},
   "outputs": [],
   "source": [
    "def str1(s):\n",
    "    low=0\n",
    "    up=0\n",
    "    length=len(s)\n",
    "    for i in range(0,length):\n",
    "        if s[i].isupper():\n",
    "            up+=1\n",
    "        elif s[i].islower():\n",
    "            low+=1\n",
    "    print (up,low)\n",
    "            "
   ]
  },
  {
   "cell_type": "code",
   "execution_count": 23,
   "id": "97d1e054",
   "metadata": {},
   "outputs": [
    {
     "name": "stdout",
     "output_type": "stream",
     "text": [
      "4 33\n"
     ]
    }
   ],
   "source": [
    "str1('Hello Mr. Rogers, how are you this fine Tuesday?')"
   ]
  },
  {
   "cell_type": "code",
   "execution_count": 35,
   "id": "323264ce",
   "metadata": {},
   "outputs": [
    {
     "name": "stdout",
     "output_type": "stream",
     "text": [
      "[1, 2, 3, 4, 5]\n"
     ]
    }
   ],
   "source": [
    "Sample_List = [1,1,1,1,2,2,3,3,3,3,4,5]\n",
    "x=[]\n",
    "for i in Sample_List:\n",
    "    if i not in x:\n",
    "        x.append(i)\n",
    "print (x)"
   ]
  },
  {
   "cell_type": "code",
   "execution_count": 5,
   "id": "b4f2981d",
   "metadata": {},
   "outputs": [
    {
     "name": "stdout",
     "output_type": "stream",
     "text": [
      "y\n",
      "y\n",
      "y\n",
      "y\n"
     ]
    }
   ],
   "source": [
    "x='malayalam'\n",
    "z=0\n",
    "y=len(x)-1\n",
    "while(z!=y and z<=y):\n",
    "    if(x[z]==x[y]):\n",
    "        print ('y')\n",
    "    else:\n",
    "        print('n')\n",
    "    z+=1\n",
    "    y-=1"
   ]
  },
  {
   "cell_type": "code",
   "execution_count": 70,
   "id": "0a1a922f",
   "metadata": {},
   "outputs": [],
   "source": [
    "def palin(x):\n",
    "    return x==x[::-1]"
   ]
  },
  {
   "cell_type": "code",
   "execution_count": 71,
   "id": "ff6df52c",
   "metadata": {},
   "outputs": [
    {
     "data": {
      "text/plain": [
       "True"
      ]
     },
     "execution_count": 71,
     "metadata": {},
     "output_type": "execute_result"
    }
   ],
   "source": [
    "palin('malayalam')"
   ]
  },
  {
   "cell_type": "code",
   "execution_count": null,
   "id": "7f72613c",
   "metadata": {},
   "outputs": [
    {
     "name": "stdout",
     "output_type": "stream",
     "text": [
      "Wait...\n",
      "Pro tip: Once you press enter you can't go back hope to fix that in the future. Now to the game.\n"
     ]
    }
   ],
   "source": [
    "import time \n",
    "print(\"Wait...\")\n",
    "time.sleep(5)\n",
    "print(\"Pro tip: Once you press enter you can't go back hope to fix that in the future. Now to the game.\")\n",
    "time.sleep(3)\n",
    "print(\"Loading...\")\n",
    "time.sleep(2.5)\n",
    "gender = input(\"What is your gender?\")\n",
    "name =  input(\"What is your nickname?\")\n",
    "print(name)\n",
    "print(\"I think that'll do.\")\n",
    "print (\"Okay agent. I am Sally. These are some high tech glasses that let you see things that other people can't see. Heres the story. We are a secret society and... \")\n",
    "time.sleep(2.111111111)\n",
    "print(\"A bell starts ringing\")\n",
    "print(\"Sorry agent we have duty. She says\")\n",
    "print(\"\")\n",
    "A = print(\"A: Search for a way out \")\n",
    "B = print(\"B: Run around flailing and screaming\")\n",
    "C = print(\"C: Analyze the situation\")\n",
    "user = input(\"What do you do?\") \n",
    "if user == (\"A\"):\n",
    "  print(\"You find a door\")\n",
    "if user == (\"B\"):\n",
    "  print(\"Nobody helps you. It was a waste of time\")\n",
    "if user == (\"C\"):\n",
    "  print(\"It seems that this doesn't happen much, a lot of agents look puzzled. When you are looking around you found a door.\")\n",
    "if user == (\"B\"):\n",
    "  print(\"When you were flailing and screaming you caught a glimpse of a door.\")\n",
    "print(\"A: Open the door\")\n",
    "print(\"B: Ignore and look for more things\")\n",
    "user1 = input(\"What do you do?\")\n",
    "if user1 == (\"B\"):\n",
    "  print(\"You found a atom blaster quality: Epic\")\n",
    "if user1 == (\"A\"):\n",
    "  print(\"The door is locked, and it looks very thick.\")\n",
    "if user1 == (\"B\"):\n",
    "  print(\"Your gut tells you to go back to the door. You try to get out but it doesn't work. \")\n",
    "if user1 == (\"A\"):\n",
    "  print(\"Your gut tells you to go scan the room again. You go back into the room and look around. You find a blaster: quality Epic. You go back to the door\")\n",
    "print(\"\")\n",
    "user2 = input(\"Would you like to blast it open?\")\n",
    "if user2 == (\"Yes\"):\n",
    "  print(\"You blast it open\")\n",
    "if user2 == (\"No\"):\n",
    "  print(\"YOU HAVE TO!!!! You blast it open\")\n",
    "print(\"Every body escapes from the door.\")\n",
    "print(\"When you get outside you see that alien- like-things that are shooting at the head quarters\")\n",
    "print(\"A: Find cover and shoot back at them \")\n",
    "print(\"B:Hide \")\n",
    "user3 = input(\"What do you do?\")\n",
    "if user3 == (\"A\"):\n",
    "  print(\"You find a block of brick that has fallen off of headquarters. It is big enough for you to have some cover.\")\n",
    "if user3 == (\"B\"):\n",
    "  print(\"You find a block of brick that has fallen off headquarters. You hide behind it.\")\n",
    "print(\"Behind the rock you find a large frying pan. You pick it up. \")\n",
    "print(\"A: Take cover with the frying pan and loot the fallen aliens. \")\n",
    "print(\"B: Stay hiding\")\n",
    "user4 = input(\"What do you do?\")\n",
    "if user4 == (\"A\"):\n",
    "  print(\"You take cover with the frying pan. The aliens are shooting at you. You dodge left to right. You get to the nearest fallen alien. You pick up his gun it is: a SCAR quality: rare. Suddenly the wall behind your cover began to crumble from a tank blast. Luckily you weren't there anymore.\")\n",
    "if user4 == (\"B\"):\n",
    "  print(\"You stay there. Suddenly an alien tank blast shoots through the air. It hits a wall behind you. It comes tumbling down. You run with the frying pan up. You are near one of the fallen aliens. It looks like it has a SCAR. You pick it up. SCAR quality: rare.\")\n",
    "  time.sleep(8)\n",
    "print(\"\")\n",
    "print(\"You run back to where all the other agents are hiding for cover.\")\n",
    "print(\"You are where all the other agents are.\")\n",
    "time.sleep(2.222)\n",
    "print(\"All of sudden more agents are there.\")\n",
    "print(\"Then all of a sudden an alien throws a grenade. It is distant but it still sends you flying.\")\n",
    "time.sleep(3.777777777)\n",
    "print(\"\")\n",
    "print(\"You end up in some other part of the city. You think other humans would notice but it seems that they are having a perfectly normal day.\")\n",
    "print(\"You still have all your stuff.\")\n",
    "print(\"You put your high tech glasses on\")\n",
    "time.sleep(0.99999)\n",
    "print(\"You see everything. The alien spaceships, the headquarters. Everything.\")\n",
    "print(\"A: Go explore the streets to see if you can find more stuff.\")\n",
    "print(\"B: Go find some healng things. You think you broke your leg.\")\n",
    "user5 = input(\"What do you do?\")\n",
    "if user5 == (\"A\"):\n",
    "  print(\"You think you broke your leg. You find a medical kit from a nice lady at the pantry.\")\n",
    "if user5 == (\"B\"):\n",
    "  print(\"Somebody at the pantry gave you a medical kit\")\n",
    "print(\"The lady also gives you a splint\")\n",
    "print(\"\")\n",
    "user6 = input(\"Do you want to go back to headquarters?\")\n",
    "if user6 == (\"No\"):\n",
    "  print(\"You have to! We are sorry. You must complete the main quest first. After that it is more open. You start to head back to headquarters.\")\n",
    "if user6 == (\"Yes\"):\n",
    "  print(\"You start to head back to headquarters\")\n",
    "print(\"Once you are half way back to headquarters you notice how amazing your glasses were. They could call, text, and do a lot more.\")\n",
    "print(\"When you were almost at headquarters you notice your leg started feeling better.\")\n",
    "print(\"It must've been a minor injury.\")\n",
    "print(\"\")\n",
    "print(\"When you get to headquarters you see that the fighting has died down to minor fist fights. \")\n",
    "print(\"You see an area where there is people getting healed.\")\n",
    "user7 = input(\"Do you want to go there?\")\n",
    "if user7 == (\"Yes\"):\n",
    "  print(\"You go over there.\")\n",
    "if user7 == (\"No\"):\n",
    "  print(\"I am sorry again but the main level is almost over. You go over to the healing area.\")\n",
    "print(\"A docter-like person is laying you down. They give you a numbing shot, then start wrapping your leg with something. But you were to sleepy to notice the pain. You fell asleep...\")\n",
    "print(\"\")\n",
    "time.sleep(2.6)\n",
    "print(\"Wait for the next update for more!\")\n",
    "print(name)\n",
    "print(\"Till next time.\")"
   ]
  },
  {
   "cell_type": "code",
   "execution_count": 12,
   "id": "3384fc27",
   "metadata": {},
   "outputs": [
    {
     "name": "stdout",
     "output_type": "stream",
     "text": [
      "Enter The Value Of N:s\n"
     ]
    },
    {
     "ename": "ValueError",
     "evalue": "invalid literal for int() with base 10: 's'",
     "output_type": "error",
     "traceback": [
      "\u001b[1;31m---------------------------------------------------------------------------\u001b[0m",
      "\u001b[1;31mValueError\u001b[0m                                Traceback (most recent call last)",
      "\u001b[1;32m<ipython-input-12-a5248b634816>\u001b[0m in \u001b[0;36m<module>\u001b[1;34m\u001b[0m\n\u001b[0;32m      1\u001b[0m \u001b[0mtemp\u001b[0m\u001b[1;33m=\u001b[0m\u001b[1;36m0\u001b[0m\u001b[1;33m\u001b[0m\u001b[1;33m\u001b[0m\u001b[0m\n\u001b[0;32m      2\u001b[0m \u001b[0mtemp1\u001b[0m\u001b[1;33m=\u001b[0m\u001b[1;36m1\u001b[0m\u001b[1;33m\u001b[0m\u001b[1;33m\u001b[0m\u001b[0m\n\u001b[1;32m----> 3\u001b[1;33m \u001b[0mx\u001b[0m\u001b[1;33m=\u001b[0m\u001b[0mint\u001b[0m\u001b[1;33m(\u001b[0m\u001b[0minput\u001b[0m\u001b[1;33m(\u001b[0m\u001b[1;34m\"Enter The Value Of N:\"\u001b[0m\u001b[1;33m)\u001b[0m\u001b[1;33m)\u001b[0m\u001b[1;33m\u001b[0m\u001b[1;33m\u001b[0m\u001b[0m\n\u001b[0m\u001b[0;32m      4\u001b[0m \u001b[0mprint\u001b[0m \u001b[1;33m(\u001b[0m\u001b[0mtemp\u001b[0m\u001b[1;33m)\u001b[0m\u001b[1;33m\u001b[0m\u001b[1;33m\u001b[0m\u001b[0m\n\u001b[0;32m      5\u001b[0m \u001b[0mprint\u001b[0m \u001b[1;33m(\u001b[0m\u001b[0mtemp1\u001b[0m\u001b[1;33m)\u001b[0m\u001b[1;33m\u001b[0m\u001b[1;33m\u001b[0m\u001b[0m\n",
      "\u001b[1;31mValueError\u001b[0m: invalid literal for int() with base 10: 's'"
     ]
    }
   ],
   "source": [
    "temp=0\n",
    "temp1=1\n",
    "x=int(input(\"Enter The Value Of N:\"))\n",
    "print (temp)\n",
    "print (temp1)\n",
    "for i  in range(0,(x-2)):\n",
    "    temp2=temp+temp1\n",
    "    print (temp2)\n",
    "    temp=temp1\n",
    "    temp1=temp2"
   ]
  },
  {
   "cell_type": "code",
   "execution_count": null,
   "id": "e80bbc43",
   "metadata": {},
   "outputs": [],
   "source": [
    "x,y=(input().split())\n",
    "xx=int(x)\n",
    "lis=[]\n",
    "n=0\n",
    "lis.append((input().split()))\n",
    "print(lis)"
   ]
  }
 ],
 "metadata": {
  "kernelspec": {
   "display_name": "Python 3",
   "language": "python",
   "name": "python3"
  }
 },
 "nbformat": 4,
 "nbformat_minor": 5
}
