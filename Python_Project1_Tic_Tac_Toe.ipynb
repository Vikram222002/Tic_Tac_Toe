{
 "cells": [
  {
   "cell_type": "code",
   "execution_count": 1,
   "id": "0dda32d6",
   "metadata": {},
   "outputs": [],
   "source": [
    "def Board(Inputs):\n",
    "    print(Inputs[7]+'   |   '+Inputs[8]+'   |   '+Inputs[9])\n",
    "    print('------------------')\n",
    "    print(Inputs[4]+'   |   '+Inputs[5]+'   |   '+Inputs[6])\n",
    "    print('------------------')\n",
    "    print(Inputs[1]+'   |   '+Inputs[2]+'   |   '+Inputs[3])"
   ]
  },
  {
   "cell_type": "code",
   "execution_count": 2,
   "id": "0c1d7d94",
   "metadata": {},
   "outputs": [],
   "source": [
    "def Player_selection():\n",
    "    global player1,player2\n",
    "    player1='x'\n",
    "    print('This is for player 1 choise:')\n",
    "    print('Enter your choice:')\n",
    "    while(player1!='X' and player1!='O'):\n",
    "        player1=input('X or O:').upper()\n",
    "        if player1=='X' or player1=='x':\n",
    "            player2='O'\n",
    "            print('\\n*----The game starts----*')\n",
    "            print('      Player1 is X')\n",
    "            print('      Player2 is O')\n",
    "        if player1=='O' or player1=='o':\n",
    "            player2='X'\n",
    "            print('\\n*----The game starts----*')\n",
    "            print('      Player1 is O')\n",
    "            print('      Player2 is X')\n",
    "        if(player1!='X' and player1!='O'):\n",
    "            print(\"Please select whether X or O\")"
   ]
  },
  {
   "cell_type": "code",
   "execution_count": 3,
   "id": "4d1629b7",
   "metadata": {},
   "outputs": [],
   "source": [
    "from IPython.display import clear_output\n",
    "def choice_player1(Board,Input):\n",
    "    clear_output()\n",
    "    while(True):\n",
    "        Board(Inputs)\n",
    "        choice=int(input('\\nPlayer1: Choose your position (1-9)'))\n",
    "        if(Inputs[choice]==' '):\n",
    "            Inputs[choice]=player1\n",
    "            break\n",
    "        else:\n",
    "            print('Choose some other option')\n",
    "            clear_output()\n",
    "    print()\n",
    "    Board(Inputs)"
   ]
  },
  {
   "cell_type": "code",
   "execution_count": 4,
   "id": "fdfef990",
   "metadata": {},
   "outputs": [],
   "source": [
    "from IPython.display import clear_output\n",
    "def choice_player2(Board,Input):\n",
    "    clear_output()\n",
    "    Board(Inputs)\n",
    "    while(True):\n",
    "        choice=int(input('\\nPlayer2: Choose your position (1-9)'))\n",
    "        if(Inputs[choice]==' '):\n",
    "            Inputs[choice]=player2\n",
    "            break\n",
    "        else:\n",
    "            print('Choose some other option')\n",
    "            clear_output()\n",
    "    print()\n",
    "    Board(Inputs)"
   ]
  },
  {
   "cell_type": "code",
   "execution_count": 5,
   "id": "bbf1fc63",
   "metadata": {},
   "outputs": [],
   "source": [
    "from IPython.display import clear_output\n",
    "def winner(Inputs,xo):\n",
    "    clear_output()\n",
    "    win=0\n",
    "    if(Inputs[1]==xo and Inputs[2]==xo and Inputs[3]==xo ):\n",
    "        win=1\n",
    "    elif(Inputs[4]==xo and Inputs[5]==xo and Inputs[6]==xo ):\n",
    "        win=1\n",
    "    elif(Inputs[7]==xo and Inputs[8]==xo and Inputs[9]==xo ):\n",
    "        win=1\n",
    "    elif(Inputs[7]==xo and Inputs[4]==xo and Inputs[1]==xo ):\n",
    "        win=1\n",
    "    elif(Inputs[8]==xo and Inputs[5]==xo and Inputs[2]==xo ):\n",
    "        win=1\n",
    "    elif(Inputs[9]==xo and Inputs[6]==xo and Inputs[3]==xo ):\n",
    "        win=1\n",
    "    elif(Inputs[7]==xo and Inputs[5]==xo and Inputs[3]==xo ):\n",
    "        win=1\n",
    "    elif(Inputs[9]==xo and Inputs[5]==xo and Inputs[1]==xo ):\n",
    "        win=1\n",
    "    if(win==1):\n",
    "        return True\n",
    "    else:\n",
    "        return False"
   ]
  },
  {
   "cell_type": "code",
   "execution_count": 6,
   "id": "1336bd36",
   "metadata": {},
   "outputs": [],
   "source": [
    "def full_board(Input):\n",
    "    count=0\n",
    "    for i in range(1,10):\n",
    "        if Input[i]==' ':\n",
    "            count=1\n",
    "            break\n",
    "    if count==1:\n",
    "        return False\n",
    "    else:\n",
    "        return True"
   ]
  },
  {
   "cell_type": "code",
   "execution_count": 7,
   "id": "e56eb6c9",
   "metadata": {},
   "outputs": [],
   "source": [
    "def continueornot():\n",
    "    print('Press y to start a new game or else press n to end the game.')\n",
    "    yesorno=input('Y or N?').upper()\n",
    "    if(yesorno=='Y'):\n",
    "        return True\n",
    "    else:\n",
    "        print('\\n*********************THANK YOU*********************')\n",
    "        return False"
   ]
  },
  {
   "cell_type": "code",
   "execution_count": 9,
   "id": "ec15606f",
   "metadata": {},
   "outputs": [
    {
     "name": "stdout",
     "output_type": "stream",
     "text": [
      "    |       |    \n",
      "------------------\n",
      "O   |   O   |    \n",
      "------------------\n",
      "X   |   X   |   X\n",
      "\n",
      "\n",
      "**** CONGRATULATIONS ****\n",
      "\n",
      "Player 1 Have Won The Game.\n",
      "Press y to start a new game or else press n to end the game.\n",
      "Y or N?n\n",
      "\n",
      "*********************THANK YOU*********************\n"
     ]
    }
   ],
   "source": [
    "gameon=True\n",
    "while gameon==True:\n",
    "    print('\\n\\n-------------------------------------------------------')\n",
    "    print(\"Welcome to this tic tac toe game created by Thrivikraman\")\n",
    "    print('-------------------------------------------------------\\n\\n')\n",
    "    Player_selection()\n",
    "    Inputs=['',' ',' ',' ',' ',' ',' ',' ',' ',' ']\n",
    "    while gameon==True:\n",
    "        if full_board(Inputs)==False:\n",
    "            choice_player1(Board,Inputs)\n",
    "            if(winner(Inputs,player1)==True):\n",
    "                Board(Inputs)\n",
    "                print('\\n\\n**** CONGRATULATIONS ****')\n",
    "                print(\"\\nPlayer 1 Have Won The Game.\")\n",
    "                if(continueornot()==False):\n",
    "                    gameon=False\n",
    "                break\n",
    "        if full_board(Inputs)==False:\n",
    "            choice_player2(Board,Inputs)\n",
    "            if(winner(Inputs,player2)==True):\n",
    "                Board(Inputs)\n",
    "                print('\\n\\n**** CONGRATULATIONS ****')\n",
    "                print(\"\\nPlayer 2 Have Won The Game.\")\n",
    "                if(continueornot()==False):\n",
    "                    gameon=False\n",
    "                break\n",
    "        else:\n",
    "            print('\\n\\nThe game is draw\\n')\n",
    "            continueornot()\n",
    "            break"
   ]
  }
 ],
 "metadata": {
  "kernelspec": {
   "display_name": "Python 3",
   "language": "python",
   "name": "python3"
  },
  "language_info": {
   "codemirror_mode": {
    "name": "ipython",
    "version": 3
   },
   "file_extension": ".py",
   "mimetype": "text/x-python",
   "name": "python",
   "nbconvert_exporter": "python",
   "pygments_lexer": "ipython3",
   "version": "3.8.8"
  }
 },
 "nbformat": 4,
 "nbformat_minor": 5
}
