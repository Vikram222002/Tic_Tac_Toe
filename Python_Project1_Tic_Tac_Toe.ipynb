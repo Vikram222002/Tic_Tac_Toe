{
 "cells": [
  {
   "cell_type": "code",
   "execution_count": 5,
   "id": "5ba0a41e",
   "metadata": {},
   "outputs": [],
   "source": [
    "def Welcome():\n",
    "    print('-------------------------------------------------------')\n",
    "    print(\"Welcome to this tic tac toe gme created by Thrivikraman\")\n",
    "    print('-------------------------------------------------------')"
   ]
  },
  {
   "cell_type": "code",
   "execution_count": 18,
   "id": "4ad80326",
   "metadata": {},
   "outputs": [],
   "source": [
    "def Player_selection():\n",
    "    print('This is for player 1 choise:')\n",
    "    print('Enter your choice:')\n",
    "    player1= 'd'\n",
    "    while(player1!='X' and player1!='O' and player1!='x' and player1!='o'):\n",
    "        player1=input('X or O:')\n",
    "        if player1=='X' or player1=='x':\n",
    "            print('\\nPlayer1 is X')\n",
    "            print('Player2 is O')\n",
    "        if player1=='O' or player1=='o':\n",
    "            print('\\nPlayer1 is O')\n",
    "            print('Player2 is X')\n",
    "        if(player1!='X' and player1!='O' and player1!='x' and player1!='o'):\n",
    "            print(\"Please select whether X or O\")"
   ]
  },
  {
   "cell_type": "code",
   "execution_count": 54,
   "id": "b9704880",
   "metadata": {},
   "outputs": [],
   "source": [
    "def Display_Board(Inputs):\n",
    "    print(Inputs[6]+'   |   '+Inputs[7]+'   |   '+Inputs[8])\n",
    "    print('------------------')\n",
    "    print(Inputs[3]+'   |   '+Inputs[4]+'   |   '+Inputs[5])\n",
    "    print('------------------')\n",
    "    print(Inputs[0]+'   |   '+Inputs[1]+'   |   '+Inputs[2])\n",
    "    "
   ]
  },
  {
   "cell_type": "code",
   "execution_count": null,
   "id": "799509ea",
   "metadata": {},
   "outputs": [],
   "source": []
  }
 ],
 "metadata": {
  "kernelspec": {
   "display_name": "Python 3",
   "language": "python",
   "name": "python3"
  },
  "language_info": {
   "codemirror_mode": {
    "name": "ipython",
    "version": 3
   },
   "file_extension": ".py",
   "mimetype": "text/x-python",
   "name": "python",
   "nbconvert_exporter": "python",
   "pygments_lexer": "ipython3",
   "version": "3.8.8"
  }
 },
 "nbformat": 4,
 "nbformat_minor": 5
}
